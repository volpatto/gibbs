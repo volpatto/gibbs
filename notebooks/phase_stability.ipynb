{
 "cells": [
  {
   "cell_type": "markdown",
   "metadata": {},
   "source": [
    "# Stability test usage example\n",
    "\n",
    "In this notebook, a demonstration of how to perform a stability test is provided. As test case, a problem from [Whitson and Brulé SPE Monograph](https://books.google.com.br/books/about/Phase_Behavior.html?id=Z4cQAQAAMAAJ&redir_esc=y). More exactly, a test for phase split is check for the Problem 18 provided in the appendix. The mixture of the problem is defined as:\n",
    "\n",
    "| Component | molar fraction |\n",
    "|-----------|---------------:|\n",
    "| $C_1$     |            0.5 |\n",
    "| $C_4$     |           0.42 |\n",
    "| $C_{10}$  |           0.08 |\n",
    "\n",
    "Critical pressures and temperatures can be gathered easily elsewhere."
   ]
  },
  {
   "cell_type": "markdown",
   "metadata": {},
   "source": [
    "* Importing the necessary libs:"
   ]
  },
  {
   "cell_type": "code",
   "execution_count": 1,
   "metadata": {},
   "outputs": [],
   "source": [
    "import attr\n",
    "import numpy as np\n",
    "import warnings\n",
    "\n",
    "from gibbs.models.ceos import PengRobinson78\n",
    "from gibbs.mixture import Mixture\n",
    "from gibbs.stability_analysis import stability_test\n",
    "\n",
    "warnings.filterwarnings('ignore')"
   ]
  },
  {
   "cell_type": "markdown",
   "metadata": {},
   "source": [
    "* Defining a class problem for example 18 from Whitson with Peng Robinson cubic EoS from available models:"
   ]
  },
  {
   "cell_type": "code",
   "execution_count": 2,
   "metadata": {},
   "outputs": [],
   "source": [
    "@attr.s(auto_attribs=True)\n",
    "class WhitsonModel:\n",
    "    z: np.ndarray\n",
    "    Tc: np.ndarray\n",
    "    Pc: np.ndarray\n",
    "    acentric_factor: np.ndarray\n",
    "    bip: np.ndarray\n",
    "        \n",
    "    @property\n",
    "    def mixture(self):\n",
    "        return Mixture(\n",
    "            z=self.z, \n",
    "            Tc=self.Tc, \n",
    "            Pc=self.Pc, \n",
    "            omega=self.acentric_factor\n",
    "        )\n",
    "\n",
    "    @property\n",
    "    def model(self):\n",
    "        return PengRobinson78(\n",
    "            mixture=self.mixture,\n",
    "            bip=self.bip\n",
    "        )\n",
    "\n",
    "    @property\n",
    "    def number_of_components(self):\n",
    "        return len(self.z)\n",
    "\n",
    "    def fugacity(self, P, T, z):\n",
    "        Z_factor = self.calculate_Z(P, T, z)\n",
    "        return self.model.calculate_fugacity(P, T, z, Z_factor)\n",
    "\n",
    "    def calculate_Z(self, P, T, z):\n",
    "        Z_factor = self.model.calculate_Z_minimal_energy(P, T, z)\n",
    "        return Z_factor"
   ]
  },
  {
   "cell_type": "markdown",
   "metadata": {},
   "source": [
    "* Instantiating the class problem at a known overall composition and BIPs:"
   ]
  },
  {
   "cell_type": "code",
   "execution_count": 3,
   "metadata": {},
   "outputs": [],
   "source": [
    "z = np.array([0.5, 0.42, 0.08])\n",
    "omegas = np.array([0.0115, 0.1928, 0.4902])\n",
    "Tcs = np.array([190.556, 425.16667, 617.666667])\n",
    "Pcs = np.array([4604318.9, 3796942.8, 2.096e6])\n",
    "kijs = np.zeros((3, 3))\n",
    "model = WhitsonModel(\n",
    "    z=z,\n",
    "    Tc=Tcs,\n",
    "    Pc=Pcs,\n",
    "    acentric_factor=omegas, \n",
    "    bip=kijs\n",
    ")"
   ]
  },
  {
   "cell_type": "markdown",
   "metadata": {},
   "source": [
    "* Performing a stability test for the model at known PT-condition:"
   ]
  },
  {
   "cell_type": "code",
   "execution_count": 4,
   "metadata": {},
   "outputs": [
    {
     "name": "stdout",
     "output_type": "stream",
     "text": [
      "True\n"
     ]
    }
   ],
   "source": [
    "P = 3.447e6\n",
    "T = 410.928\n",
    "\n",
    "result = stability_test(model, P, T, z)\n",
    "\n",
    "print(result.phase_split)"
   ]
  }
 ],
 "metadata": {
  "kernelspec": {
   "display_name": "Python 3",
   "language": "python",
   "name": "python3"
  },
  "language_info": {
   "codemirror_mode": {
    "name": "ipython",
    "version": 3
   },
   "file_extension": ".py",
   "mimetype": "text/x-python",
   "name": "python",
   "nbconvert_exporter": "python",
   "pygments_lexer": "ipython3",
   "version": "3.6.7"
  },
  "toc": {
   "base_numbering": 1,
   "nav_menu": {},
   "number_sections": true,
   "sideBar": true,
   "skip_h1_title": false,
   "title_cell": "Table of Contents",
   "title_sidebar": "Contents",
   "toc_cell": false,
   "toc_position": {},
   "toc_section_display": true,
   "toc_window_display": false
  }
 },
 "nbformat": 4,
 "nbformat_minor": 2
}
